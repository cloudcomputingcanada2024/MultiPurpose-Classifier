{
  "nbformat": 4,
  "nbformat_minor": 0,
  "metadata": {
    "colab": {
      "provenance": [],
      "gpuType": "T4"
    },
    "kernelspec": {
      "name": "python3",
      "display_name": "Python 3"
    },
    "language_info": {
      "name": "python"
    },
    "accelerator": "GPU"
  },
  "cells": [
    {
      "cell_type": "markdown",
      "source": [
        "# CS-405 Deep Learning BS-CS/SE Fall-2023\n",
        "\n",
        "# Assignment 1 Starter Notebook\n",
        "\n"
      ],
      "metadata": {
        "id": "cF-pnQy2YMQT"
      }
    },
    {
      "cell_type": "markdown",
      "source": [
        "# Dataset\n",
        "The given dataset is a large-scale face dataset with long age span (range from 0 to 116 years old). The dataset consists of over 20,000 face images with annotations of age, gender, and ethnicity. We will be using only 7000 of the 20,000 images. The dataset in this assignment is going to be used for the following task:\n",
        "\n",
        "##Given the pixels of an image, perform age estimation, ethnicity classification and gender classification for the image using a single neural network.\n",
        "\n",
        "\n",
        "The dataset for this assignment is already cleaned and provided in a CSV format for you with images included as pixel values.\n",
        "\n",
        "The 4 columns contain the following information:\n",
        "\n",
        "* **[age]** is an integer from 0 to 116, indicating the age. You can convert it to float for regression predictions\n",
        "* **[gender]** is either 0 (male) or 1 (female)\n",
        "* **[race]** is an integer from 0 to 4, denoting White, Black, Asian, Indian, and Others (like Hispanic, Latino, Middle Eastern).\n",
        "*  The 4th column contains the pixels of the images flattened to a single dimension. Each of the original image is of size 48x48 and the flattened image vector consists of 48x48 = 2304 pixel values.\n",
        "\n"
      ],
      "metadata": {
        "id": "XqO8PIA4YlFm"
      }
    },
    {
      "cell_type": "code",
      "source": [
        "!gdown https://drive.google.com/file/d/1_KRWsOhQNf6BZcdu4pg2JVy-lHo7_Cno/view?usp=sharing --fuzzy\n"
      ],
      "metadata": {
        "colab": {
          "base_uri": "https://localhost:8080/"
        },
        "id": "-L_pcQJGYHCd",
        "outputId": "d0e5c377-e57d-4451-ab2a-fd55249faf18"
      },
      "execution_count": 169,
      "outputs": [
        {
          "output_type": "stream",
          "name": "stdout",
          "text": [
            "Downloading...\n",
            "From: https://drive.google.com/uc?id=1_KRWsOhQNf6BZcdu4pg2JVy-lHo7_Cno\n",
            "To: /content/DL_assignment1_dataset.csv\n",
            "100% 199M/199M [00:01<00:00, 99.9MB/s]\n"
          ]
        }
      ]
    },
    {
      "cell_type": "code",
      "execution_count": 170,
      "metadata": {
        "id": "ZbV2cYFoW6es"
      },
      "outputs": [],
      "source": [
        "import pandas\n",
        "import numpy as np\n",
        "import matplotlib.pyplot as plt\n",
        "import random"
      ]
    },
    {
      "cell_type": "code",
      "source": [
        "# Lets use pandas to load our data\n",
        "df = pandas.read_csv(\"/content/DL_assignment1_dataset.csv\")\n",
        "\n",
        "# I used this when I was having \"ACCESS DENIED\" error :/\n",
        "#df = pandas.read_csv(\"DL_assignment1_dataset (1).csv\")\n",
        "\n",
        "df"
      ],
      "metadata": {
        "colab": {
          "base_uri": "https://localhost:8080/",
          "height": 423
        },
        "id": "mhIMgnKIXDim",
        "outputId": "62f01e9d-9578-4a3b-dea7-3762f8ebe97e"
      },
      "execution_count": 171,
      "outputs": [
        {
          "output_type": "execute_result",
          "data": {
            "text/plain": [
              "       age  ethnicity  gender  \\\n",
              "0        1          2       0   \n",
              "1        1          2       0   \n",
              "2        1          2       0   \n",
              "3        1          2       0   \n",
              "4        1          2       0   \n",
              "...    ...        ...     ...   \n",
              "23700   99          0       1   \n",
              "23701   99          1       1   \n",
              "23702   99          2       1   \n",
              "23703   99          2       1   \n",
              "23704   99          0       1   \n",
              "\n",
              "                                                  pixels  \n",
              "0      129 128 128 126 127 130 133 135 139 142 145 14...  \n",
              "1      164 74 111 168 169 171 175 182 184 188 193 199...  \n",
              "2      67 70 71 70 69 67 70 79 90 103 116 132 145 155...  \n",
              "3      193 197 198 200 199 200 202 203 204 205 208 21...  \n",
              "4      202 205 209 210 209 209 210 211 212 214 218 21...  \n",
              "...                                                  ...  \n",
              "23700  127 100 94 81 77 77 74 99 102 98 128 145 160 1...  \n",
              "23701  23 28 32 35 42 47 68 85 98 103 113 117 130 129...  \n",
              "23702  59 50 37 40 34 19 30 101 156 170 177 184 187 1...  \n",
              "23703  45 108 120 156 206 197 140 180 191 199 204 207...  \n",
              "23704  156 161 160 165 170 173 166 177 183 191 187 18...  \n",
              "\n",
              "[23705 rows x 4 columns]"
            ],
            "text/html": [
              "\n",
              "  <div id=\"df-53032037-035b-458b-b723-05c337540677\" class=\"colab-df-container\">\n",
              "    <div>\n",
              "<style scoped>\n",
              "    .dataframe tbody tr th:only-of-type {\n",
              "        vertical-align: middle;\n",
              "    }\n",
              "\n",
              "    .dataframe tbody tr th {\n",
              "        vertical-align: top;\n",
              "    }\n",
              "\n",
              "    .dataframe thead th {\n",
              "        text-align: right;\n",
              "    }\n",
              "</style>\n",
              "<table border=\"1\" class=\"dataframe\">\n",
              "  <thead>\n",
              "    <tr style=\"text-align: right;\">\n",
              "      <th></th>\n",
              "      <th>age</th>\n",
              "      <th>ethnicity</th>\n",
              "      <th>gender</th>\n",
              "      <th>pixels</th>\n",
              "    </tr>\n",
              "  </thead>\n",
              "  <tbody>\n",
              "    <tr>\n",
              "      <th>0</th>\n",
              "      <td>1</td>\n",
              "      <td>2</td>\n",
              "      <td>0</td>\n",
              "      <td>129 128 128 126 127 130 133 135 139 142 145 14...</td>\n",
              "    </tr>\n",
              "    <tr>\n",
              "      <th>1</th>\n",
              "      <td>1</td>\n",
              "      <td>2</td>\n",
              "      <td>0</td>\n",
              "      <td>164 74 111 168 169 171 175 182 184 188 193 199...</td>\n",
              "    </tr>\n",
              "    <tr>\n",
              "      <th>2</th>\n",
              "      <td>1</td>\n",
              "      <td>2</td>\n",
              "      <td>0</td>\n",
              "      <td>67 70 71 70 69 67 70 79 90 103 116 132 145 155...</td>\n",
              "    </tr>\n",
              "    <tr>\n",
              "      <th>3</th>\n",
              "      <td>1</td>\n",
              "      <td>2</td>\n",
              "      <td>0</td>\n",
              "      <td>193 197 198 200 199 200 202 203 204 205 208 21...</td>\n",
              "    </tr>\n",
              "    <tr>\n",
              "      <th>4</th>\n",
              "      <td>1</td>\n",
              "      <td>2</td>\n",
              "      <td>0</td>\n",
              "      <td>202 205 209 210 209 209 210 211 212 214 218 21...</td>\n",
              "    </tr>\n",
              "    <tr>\n",
              "      <th>...</th>\n",
              "      <td>...</td>\n",
              "      <td>...</td>\n",
              "      <td>...</td>\n",
              "      <td>...</td>\n",
              "    </tr>\n",
              "    <tr>\n",
              "      <th>23700</th>\n",
              "      <td>99</td>\n",
              "      <td>0</td>\n",
              "      <td>1</td>\n",
              "      <td>127 100 94 81 77 77 74 99 102 98 128 145 160 1...</td>\n",
              "    </tr>\n",
              "    <tr>\n",
              "      <th>23701</th>\n",
              "      <td>99</td>\n",
              "      <td>1</td>\n",
              "      <td>1</td>\n",
              "      <td>23 28 32 35 42 47 68 85 98 103 113 117 130 129...</td>\n",
              "    </tr>\n",
              "    <tr>\n",
              "      <th>23702</th>\n",
              "      <td>99</td>\n",
              "      <td>2</td>\n",
              "      <td>1</td>\n",
              "      <td>59 50 37 40 34 19 30 101 156 170 177 184 187 1...</td>\n",
              "    </tr>\n",
              "    <tr>\n",
              "      <th>23703</th>\n",
              "      <td>99</td>\n",
              "      <td>2</td>\n",
              "      <td>1</td>\n",
              "      <td>45 108 120 156 206 197 140 180 191 199 204 207...</td>\n",
              "    </tr>\n",
              "    <tr>\n",
              "      <th>23704</th>\n",
              "      <td>99</td>\n",
              "      <td>0</td>\n",
              "      <td>1</td>\n",
              "      <td>156 161 160 165 170 173 166 177 183 191 187 18...</td>\n",
              "    </tr>\n",
              "  </tbody>\n",
              "</table>\n",
              "<p>23705 rows × 4 columns</p>\n",
              "</div>\n",
              "    <div class=\"colab-df-buttons\">\n",
              "\n",
              "  <div class=\"colab-df-container\">\n",
              "    <button class=\"colab-df-convert\" onclick=\"convertToInteractive('df-53032037-035b-458b-b723-05c337540677')\"\n",
              "            title=\"Convert this dataframe to an interactive table.\"\n",
              "            style=\"display:none;\">\n",
              "\n",
              "  <svg xmlns=\"http://www.w3.org/2000/svg\" height=\"24px\" viewBox=\"0 -960 960 960\">\n",
              "    <path d=\"M120-120v-720h720v720H120Zm60-500h600v-160H180v160Zm220 220h160v-160H400v160Zm0 220h160v-160H400v160ZM180-400h160v-160H180v160Zm440 0h160v-160H620v160ZM180-180h160v-160H180v160Zm440 0h160v-160H620v160Z\"/>\n",
              "  </svg>\n",
              "    </button>\n",
              "\n",
              "  <style>\n",
              "    .colab-df-container {\n",
              "      display:flex;\n",
              "      gap: 12px;\n",
              "    }\n",
              "\n",
              "    .colab-df-convert {\n",
              "      background-color: #E8F0FE;\n",
              "      border: none;\n",
              "      border-radius: 50%;\n",
              "      cursor: pointer;\n",
              "      display: none;\n",
              "      fill: #1967D2;\n",
              "      height: 32px;\n",
              "      padding: 0 0 0 0;\n",
              "      width: 32px;\n",
              "    }\n",
              "\n",
              "    .colab-df-convert:hover {\n",
              "      background-color: #E2EBFA;\n",
              "      box-shadow: 0px 1px 2px rgba(60, 64, 67, 0.3), 0px 1px 3px 1px rgba(60, 64, 67, 0.15);\n",
              "      fill: #174EA6;\n",
              "    }\n",
              "\n",
              "    .colab-df-buttons div {\n",
              "      margin-bottom: 4px;\n",
              "    }\n",
              "\n",
              "    [theme=dark] .colab-df-convert {\n",
              "      background-color: #3B4455;\n",
              "      fill: #D2E3FC;\n",
              "    }\n",
              "\n",
              "    [theme=dark] .colab-df-convert:hover {\n",
              "      background-color: #434B5C;\n",
              "      box-shadow: 0px 1px 3px 1px rgba(0, 0, 0, 0.15);\n",
              "      filter: drop-shadow(0px 1px 2px rgba(0, 0, 0, 0.3));\n",
              "      fill: #FFFFFF;\n",
              "    }\n",
              "  </style>\n",
              "\n",
              "    <script>\n",
              "      const buttonEl =\n",
              "        document.querySelector('#df-53032037-035b-458b-b723-05c337540677 button.colab-df-convert');\n",
              "      buttonEl.style.display =\n",
              "        google.colab.kernel.accessAllowed ? 'block' : 'none';\n",
              "\n",
              "      async function convertToInteractive(key) {\n",
              "        const element = document.querySelector('#df-53032037-035b-458b-b723-05c337540677');\n",
              "        const dataTable =\n",
              "          await google.colab.kernel.invokeFunction('convertToInteractive',\n",
              "                                                    [key], {});\n",
              "        if (!dataTable) return;\n",
              "\n",
              "        const docLinkHtml = 'Like what you see? Visit the ' +\n",
              "          '<a target=\"_blank\" href=https://colab.research.google.com/notebooks/data_table.ipynb>data table notebook</a>'\n",
              "          + ' to learn more about interactive tables.';\n",
              "        element.innerHTML = '';\n",
              "        dataTable['output_type'] = 'display_data';\n",
              "        await google.colab.output.renderOutput(dataTable, element);\n",
              "        const docLink = document.createElement('div');\n",
              "        docLink.innerHTML = docLinkHtml;\n",
              "        element.appendChild(docLink);\n",
              "      }\n",
              "    </script>\n",
              "  </div>\n",
              "\n",
              "\n",
              "<div id=\"df-e3629d57-9765-4842-ac57-7c8d44885619\">\n",
              "  <button class=\"colab-df-quickchart\" onclick=\"quickchart('df-e3629d57-9765-4842-ac57-7c8d44885619')\"\n",
              "            title=\"Suggest charts.\"\n",
              "            style=\"display:none;\">\n",
              "\n",
              "<svg xmlns=\"http://www.w3.org/2000/svg\" height=\"24px\"viewBox=\"0 0 24 24\"\n",
              "     width=\"24px\">\n",
              "    <g>\n",
              "        <path d=\"M19 3H5c-1.1 0-2 .9-2 2v14c0 1.1.9 2 2 2h14c1.1 0 2-.9 2-2V5c0-1.1-.9-2-2-2zM9 17H7v-7h2v7zm4 0h-2V7h2v10zm4 0h-2v-4h2v4z\"/>\n",
              "    </g>\n",
              "</svg>\n",
              "  </button>\n",
              "\n",
              "<style>\n",
              "  .colab-df-quickchart {\n",
              "      --bg-color: #E8F0FE;\n",
              "      --fill-color: #1967D2;\n",
              "      --hover-bg-color: #E2EBFA;\n",
              "      --hover-fill-color: #174EA6;\n",
              "      --disabled-fill-color: #AAA;\n",
              "      --disabled-bg-color: #DDD;\n",
              "  }\n",
              "\n",
              "  [theme=dark] .colab-df-quickchart {\n",
              "      --bg-color: #3B4455;\n",
              "      --fill-color: #D2E3FC;\n",
              "      --hover-bg-color: #434B5C;\n",
              "      --hover-fill-color: #FFFFFF;\n",
              "      --disabled-bg-color: #3B4455;\n",
              "      --disabled-fill-color: #666;\n",
              "  }\n",
              "\n",
              "  .colab-df-quickchart {\n",
              "    background-color: var(--bg-color);\n",
              "    border: none;\n",
              "    border-radius: 50%;\n",
              "    cursor: pointer;\n",
              "    display: none;\n",
              "    fill: var(--fill-color);\n",
              "    height: 32px;\n",
              "    padding: 0;\n",
              "    width: 32px;\n",
              "  }\n",
              "\n",
              "  .colab-df-quickchart:hover {\n",
              "    background-color: var(--hover-bg-color);\n",
              "    box-shadow: 0 1px 2px rgba(60, 64, 67, 0.3), 0 1px 3px 1px rgba(60, 64, 67, 0.15);\n",
              "    fill: var(--button-hover-fill-color);\n",
              "  }\n",
              "\n",
              "  .colab-df-quickchart-complete:disabled,\n",
              "  .colab-df-quickchart-complete:disabled:hover {\n",
              "    background-color: var(--disabled-bg-color);\n",
              "    fill: var(--disabled-fill-color);\n",
              "    box-shadow: none;\n",
              "  }\n",
              "\n",
              "  .colab-df-spinner {\n",
              "    border: 2px solid var(--fill-color);\n",
              "    border-color: transparent;\n",
              "    border-bottom-color: var(--fill-color);\n",
              "    animation:\n",
              "      spin 1s steps(1) infinite;\n",
              "  }\n",
              "\n",
              "  @keyframes spin {\n",
              "    0% {\n",
              "      border-color: transparent;\n",
              "      border-bottom-color: var(--fill-color);\n",
              "      border-left-color: var(--fill-color);\n",
              "    }\n",
              "    20% {\n",
              "      border-color: transparent;\n",
              "      border-left-color: var(--fill-color);\n",
              "      border-top-color: var(--fill-color);\n",
              "    }\n",
              "    30% {\n",
              "      border-color: transparent;\n",
              "      border-left-color: var(--fill-color);\n",
              "      border-top-color: var(--fill-color);\n",
              "      border-right-color: var(--fill-color);\n",
              "    }\n",
              "    40% {\n",
              "      border-color: transparent;\n",
              "      border-right-color: var(--fill-color);\n",
              "      border-top-color: var(--fill-color);\n",
              "    }\n",
              "    60% {\n",
              "      border-color: transparent;\n",
              "      border-right-color: var(--fill-color);\n",
              "    }\n",
              "    80% {\n",
              "      border-color: transparent;\n",
              "      border-right-color: var(--fill-color);\n",
              "      border-bottom-color: var(--fill-color);\n",
              "    }\n",
              "    90% {\n",
              "      border-color: transparent;\n",
              "      border-bottom-color: var(--fill-color);\n",
              "    }\n",
              "  }\n",
              "</style>\n",
              "\n",
              "  <script>\n",
              "    async function quickchart(key) {\n",
              "      const quickchartButtonEl =\n",
              "        document.querySelector('#' + key + ' button');\n",
              "      quickchartButtonEl.disabled = true;  // To prevent multiple clicks.\n",
              "      quickchartButtonEl.classList.add('colab-df-spinner');\n",
              "      try {\n",
              "        const charts = await google.colab.kernel.invokeFunction(\n",
              "            'suggestCharts', [key], {});\n",
              "      } catch (error) {\n",
              "        console.error('Error during call to suggestCharts:', error);\n",
              "      }\n",
              "      quickchartButtonEl.classList.remove('colab-df-spinner');\n",
              "      quickchartButtonEl.classList.add('colab-df-quickchart-complete');\n",
              "    }\n",
              "    (() => {\n",
              "      let quickchartButtonEl =\n",
              "        document.querySelector('#df-e3629d57-9765-4842-ac57-7c8d44885619 button');\n",
              "      quickchartButtonEl.style.display =\n",
              "        google.colab.kernel.accessAllowed ? 'block' : 'none';\n",
              "    })();\n",
              "  </script>\n",
              "</div>\n",
              "    </div>\n",
              "  </div>\n"
            ]
          },
          "metadata": {},
          "execution_count": 171
        }
      ]
    },
    {
      "cell_type": "markdown",
      "source": [
        "### For this assignment we will be using fully connected neural networks and hence to keep things simple we will only use 7000 of the ~20000 images for quick training times.\n",
        "\n",
        "### Please do not change the seed for the sampling of data points."
      ],
      "metadata": {
        "id": "2weDCP6jggYB"
      }
    },
    {
      "cell_type": "code",
      "source": [
        "random_seed = 42\n",
        "df_sampled = df.sample(n=7000, random_state=random_seed)\n",
        "df_sampled.reset_index(drop=True, inplace=True)\n",
        "df_sampled"
      ],
      "metadata": {
        "id": "xUBOnC85atjQ",
        "colab": {
          "base_uri": "https://localhost:8080/",
          "height": 423
        },
        "outputId": "67423ec5-1f65-43c3-a37a-519a76cf2b8f"
      },
      "execution_count": 172,
      "outputs": [
        {
          "output_type": "execute_result",
          "data": {
            "text/plain": [
              "      age  ethnicity  gender  \\\n",
              "0      49          1       1   \n",
              "1      39          1       0   \n",
              "2       8          4       0   \n",
              "3      40          4       0   \n",
              "4      27          0       0   \n",
              "...   ...        ...     ...   \n",
              "6995   49          3       0   \n",
              "6996   28          1       1   \n",
              "6997   32          3       1   \n",
              "6998   41          0       0   \n",
              "6999   12          4       1   \n",
              "\n",
              "                                                 pixels  \n",
              "0     31 32 28 27 34 38 37 40 47 51 52 57 72 93 118 ...  \n",
              "1     186 65 38 40 36 51 64 64 60 55 58 60 73 79 82 ...  \n",
              "2     20 23 35 34 45 65 69 72 79 92 106 115 134 148 ...  \n",
              "3     6 6 13 19 15 23 41 76 106 125 133 138 152 158 ...  \n",
              "4     31 31 29 51 98 136 162 175 176 178 178 179 184...  \n",
              "...                                                 ...  \n",
              "6995  128 130 131 131 132 134 134 140 72 43 102 77 1...  \n",
              "6996  28 22 19 23 16 22 19 31 64 81 88 96 108 120 13...  \n",
              "6997  221 229 227 200 166 115 146 198 186 184 178 15...  \n",
              "6998  58 61 76 58 83 71 74 90 71 112 77 91 111 135 1...  \n",
              "6999  19 21 20 23 33 54 90 128 149 169 179 179 182 1...  \n",
              "\n",
              "[7000 rows x 4 columns]"
            ],
            "text/html": [
              "\n",
              "  <div id=\"df-a756805e-fae7-4c7d-88c8-d2328dfb3e9b\" class=\"colab-df-container\">\n",
              "    <div>\n",
              "<style scoped>\n",
              "    .dataframe tbody tr th:only-of-type {\n",
              "        vertical-align: middle;\n",
              "    }\n",
              "\n",
              "    .dataframe tbody tr th {\n",
              "        vertical-align: top;\n",
              "    }\n",
              "\n",
              "    .dataframe thead th {\n",
              "        text-align: right;\n",
              "    }\n",
              "</style>\n",
              "<table border=\"1\" class=\"dataframe\">\n",
              "  <thead>\n",
              "    <tr style=\"text-align: right;\">\n",
              "      <th></th>\n",
              "      <th>age</th>\n",
              "      <th>ethnicity</th>\n",
              "      <th>gender</th>\n",
              "      <th>pixels</th>\n",
              "    </tr>\n",
              "  </thead>\n",
              "  <tbody>\n",
              "    <tr>\n",
              "      <th>0</th>\n",
              "      <td>49</td>\n",
              "      <td>1</td>\n",
              "      <td>1</td>\n",
              "      <td>31 32 28 27 34 38 37 40 47 51 52 57 72 93 118 ...</td>\n",
              "    </tr>\n",
              "    <tr>\n",
              "      <th>1</th>\n",
              "      <td>39</td>\n",
              "      <td>1</td>\n",
              "      <td>0</td>\n",
              "      <td>186 65 38 40 36 51 64 64 60 55 58 60 73 79 82 ...</td>\n",
              "    </tr>\n",
              "    <tr>\n",
              "      <th>2</th>\n",
              "      <td>8</td>\n",
              "      <td>4</td>\n",
              "      <td>0</td>\n",
              "      <td>20 23 35 34 45 65 69 72 79 92 106 115 134 148 ...</td>\n",
              "    </tr>\n",
              "    <tr>\n",
              "      <th>3</th>\n",
              "      <td>40</td>\n",
              "      <td>4</td>\n",
              "      <td>0</td>\n",
              "      <td>6 6 13 19 15 23 41 76 106 125 133 138 152 158 ...</td>\n",
              "    </tr>\n",
              "    <tr>\n",
              "      <th>4</th>\n",
              "      <td>27</td>\n",
              "      <td>0</td>\n",
              "      <td>0</td>\n",
              "      <td>31 31 29 51 98 136 162 175 176 178 178 179 184...</td>\n",
              "    </tr>\n",
              "    <tr>\n",
              "      <th>...</th>\n",
              "      <td>...</td>\n",
              "      <td>...</td>\n",
              "      <td>...</td>\n",
              "      <td>...</td>\n",
              "    </tr>\n",
              "    <tr>\n",
              "      <th>6995</th>\n",
              "      <td>49</td>\n",
              "      <td>3</td>\n",
              "      <td>0</td>\n",
              "      <td>128 130 131 131 132 134 134 140 72 43 102 77 1...</td>\n",
              "    </tr>\n",
              "    <tr>\n",
              "      <th>6996</th>\n",
              "      <td>28</td>\n",
              "      <td>1</td>\n",
              "      <td>1</td>\n",
              "      <td>28 22 19 23 16 22 19 31 64 81 88 96 108 120 13...</td>\n",
              "    </tr>\n",
              "    <tr>\n",
              "      <th>6997</th>\n",
              "      <td>32</td>\n",
              "      <td>3</td>\n",
              "      <td>1</td>\n",
              "      <td>221 229 227 200 166 115 146 198 186 184 178 15...</td>\n",
              "    </tr>\n",
              "    <tr>\n",
              "      <th>6998</th>\n",
              "      <td>41</td>\n",
              "      <td>0</td>\n",
              "      <td>0</td>\n",
              "      <td>58 61 76 58 83 71 74 90 71 112 77 91 111 135 1...</td>\n",
              "    </tr>\n",
              "    <tr>\n",
              "      <th>6999</th>\n",
              "      <td>12</td>\n",
              "      <td>4</td>\n",
              "      <td>1</td>\n",
              "      <td>19 21 20 23 33 54 90 128 149 169 179 179 182 1...</td>\n",
              "    </tr>\n",
              "  </tbody>\n",
              "</table>\n",
              "<p>7000 rows × 4 columns</p>\n",
              "</div>\n",
              "    <div class=\"colab-df-buttons\">\n",
              "\n",
              "  <div class=\"colab-df-container\">\n",
              "    <button class=\"colab-df-convert\" onclick=\"convertToInteractive('df-a756805e-fae7-4c7d-88c8-d2328dfb3e9b')\"\n",
              "            title=\"Convert this dataframe to an interactive table.\"\n",
              "            style=\"display:none;\">\n",
              "\n",
              "  <svg xmlns=\"http://www.w3.org/2000/svg\" height=\"24px\" viewBox=\"0 -960 960 960\">\n",
              "    <path d=\"M120-120v-720h720v720H120Zm60-500h600v-160H180v160Zm220 220h160v-160H400v160Zm0 220h160v-160H400v160ZM180-400h160v-160H180v160Zm440 0h160v-160H620v160ZM180-180h160v-160H180v160Zm440 0h160v-160H620v160Z\"/>\n",
              "  </svg>\n",
              "    </button>\n",
              "\n",
              "  <style>\n",
              "    .colab-df-container {\n",
              "      display:flex;\n",
              "      gap: 12px;\n",
              "    }\n",
              "\n",
              "    .colab-df-convert {\n",
              "      background-color: #E8F0FE;\n",
              "      border: none;\n",
              "      border-radius: 50%;\n",
              "      cursor: pointer;\n",
              "      display: none;\n",
              "      fill: #1967D2;\n",
              "      height: 32px;\n",
              "      padding: 0 0 0 0;\n",
              "      width: 32px;\n",
              "    }\n",
              "\n",
              "    .colab-df-convert:hover {\n",
              "      background-color: #E2EBFA;\n",
              "      box-shadow: 0px 1px 2px rgba(60, 64, 67, 0.3), 0px 1px 3px 1px rgba(60, 64, 67, 0.15);\n",
              "      fill: #174EA6;\n",
              "    }\n",
              "\n",
              "    .colab-df-buttons div {\n",
              "      margin-bottom: 4px;\n",
              "    }\n",
              "\n",
              "    [theme=dark] .colab-df-convert {\n",
              "      background-color: #3B4455;\n",
              "      fill: #D2E3FC;\n",
              "    }\n",
              "\n",
              "    [theme=dark] .colab-df-convert:hover {\n",
              "      background-color: #434B5C;\n",
              "      box-shadow: 0px 1px 3px 1px rgba(0, 0, 0, 0.15);\n",
              "      filter: drop-shadow(0px 1px 2px rgba(0, 0, 0, 0.3));\n",
              "      fill: #FFFFFF;\n",
              "    }\n",
              "  </style>\n",
              "\n",
              "    <script>\n",
              "      const buttonEl =\n",
              "        document.querySelector('#df-a756805e-fae7-4c7d-88c8-d2328dfb3e9b button.colab-df-convert');\n",
              "      buttonEl.style.display =\n",
              "        google.colab.kernel.accessAllowed ? 'block' : 'none';\n",
              "\n",
              "      async function convertToInteractive(key) {\n",
              "        const element = document.querySelector('#df-a756805e-fae7-4c7d-88c8-d2328dfb3e9b');\n",
              "        const dataTable =\n",
              "          await google.colab.kernel.invokeFunction('convertToInteractive',\n",
              "                                                    [key], {});\n",
              "        if (!dataTable) return;\n",
              "\n",
              "        const docLinkHtml = 'Like what you see? Visit the ' +\n",
              "          '<a target=\"_blank\" href=https://colab.research.google.com/notebooks/data_table.ipynb>data table notebook</a>'\n",
              "          + ' to learn more about interactive tables.';\n",
              "        element.innerHTML = '';\n",
              "        dataTable['output_type'] = 'display_data';\n",
              "        await google.colab.output.renderOutput(dataTable, element);\n",
              "        const docLink = document.createElement('div');\n",
              "        docLink.innerHTML = docLinkHtml;\n",
              "        element.appendChild(docLink);\n",
              "      }\n",
              "    </script>\n",
              "  </div>\n",
              "\n",
              "\n",
              "<div id=\"df-ce10ac0f-b6ca-411e-b8f9-19bb1d610fab\">\n",
              "  <button class=\"colab-df-quickchart\" onclick=\"quickchart('df-ce10ac0f-b6ca-411e-b8f9-19bb1d610fab')\"\n",
              "            title=\"Suggest charts.\"\n",
              "            style=\"display:none;\">\n",
              "\n",
              "<svg xmlns=\"http://www.w3.org/2000/svg\" height=\"24px\"viewBox=\"0 0 24 24\"\n",
              "     width=\"24px\">\n",
              "    <g>\n",
              "        <path d=\"M19 3H5c-1.1 0-2 .9-2 2v14c0 1.1.9 2 2 2h14c1.1 0 2-.9 2-2V5c0-1.1-.9-2-2-2zM9 17H7v-7h2v7zm4 0h-2V7h2v10zm4 0h-2v-4h2v4z\"/>\n",
              "    </g>\n",
              "</svg>\n",
              "  </button>\n",
              "\n",
              "<style>\n",
              "  .colab-df-quickchart {\n",
              "      --bg-color: #E8F0FE;\n",
              "      --fill-color: #1967D2;\n",
              "      --hover-bg-color: #E2EBFA;\n",
              "      --hover-fill-color: #174EA6;\n",
              "      --disabled-fill-color: #AAA;\n",
              "      --disabled-bg-color: #DDD;\n",
              "  }\n",
              "\n",
              "  [theme=dark] .colab-df-quickchart {\n",
              "      --bg-color: #3B4455;\n",
              "      --fill-color: #D2E3FC;\n",
              "      --hover-bg-color: #434B5C;\n",
              "      --hover-fill-color: #FFFFFF;\n",
              "      --disabled-bg-color: #3B4455;\n",
              "      --disabled-fill-color: #666;\n",
              "  }\n",
              "\n",
              "  .colab-df-quickchart {\n",
              "    background-color: var(--bg-color);\n",
              "    border: none;\n",
              "    border-radius: 50%;\n",
              "    cursor: pointer;\n",
              "    display: none;\n",
              "    fill: var(--fill-color);\n",
              "    height: 32px;\n",
              "    padding: 0;\n",
              "    width: 32px;\n",
              "  }\n",
              "\n",
              "  .colab-df-quickchart:hover {\n",
              "    background-color: var(--hover-bg-color);\n",
              "    box-shadow: 0 1px 2px rgba(60, 64, 67, 0.3), 0 1px 3px 1px rgba(60, 64, 67, 0.15);\n",
              "    fill: var(--button-hover-fill-color);\n",
              "  }\n",
              "\n",
              "  .colab-df-quickchart-complete:disabled,\n",
              "  .colab-df-quickchart-complete:disabled:hover {\n",
              "    background-color: var(--disabled-bg-color);\n",
              "    fill: var(--disabled-fill-color);\n",
              "    box-shadow: none;\n",
              "  }\n",
              "\n",
              "  .colab-df-spinner {\n",
              "    border: 2px solid var(--fill-color);\n",
              "    border-color: transparent;\n",
              "    border-bottom-color: var(--fill-color);\n",
              "    animation:\n",
              "      spin 1s steps(1) infinite;\n",
              "  }\n",
              "\n",
              "  @keyframes spin {\n",
              "    0% {\n",
              "      border-color: transparent;\n",
              "      border-bottom-color: var(--fill-color);\n",
              "      border-left-color: var(--fill-color);\n",
              "    }\n",
              "    20% {\n",
              "      border-color: transparent;\n",
              "      border-left-color: var(--fill-color);\n",
              "      border-top-color: var(--fill-color);\n",
              "    }\n",
              "    30% {\n",
              "      border-color: transparent;\n",
              "      border-left-color: var(--fill-color);\n",
              "      border-top-color: var(--fill-color);\n",
              "      border-right-color: var(--fill-color);\n",
              "    }\n",
              "    40% {\n",
              "      border-color: transparent;\n",
              "      border-right-color: var(--fill-color);\n",
              "      border-top-color: var(--fill-color);\n",
              "    }\n",
              "    60% {\n",
              "      border-color: transparent;\n",
              "      border-right-color: var(--fill-color);\n",
              "    }\n",
              "    80% {\n",
              "      border-color: transparent;\n",
              "      border-right-color: var(--fill-color);\n",
              "      border-bottom-color: var(--fill-color);\n",
              "    }\n",
              "    90% {\n",
              "      border-color: transparent;\n",
              "      border-bottom-color: var(--fill-color);\n",
              "    }\n",
              "  }\n",
              "</style>\n",
              "\n",
              "  <script>\n",
              "    async function quickchart(key) {\n",
              "      const quickchartButtonEl =\n",
              "        document.querySelector('#' + key + ' button');\n",
              "      quickchartButtonEl.disabled = true;  // To prevent multiple clicks.\n",
              "      quickchartButtonEl.classList.add('colab-df-spinner');\n",
              "      try {\n",
              "        const charts = await google.colab.kernel.invokeFunction(\n",
              "            'suggestCharts', [key], {});\n",
              "      } catch (error) {\n",
              "        console.error('Error during call to suggestCharts:', error);\n",
              "      }\n",
              "      quickchartButtonEl.classList.remove('colab-df-spinner');\n",
              "      quickchartButtonEl.classList.add('colab-df-quickchart-complete');\n",
              "    }\n",
              "    (() => {\n",
              "      let quickchartButtonEl =\n",
              "        document.querySelector('#df-ce10ac0f-b6ca-411e-b8f9-19bb1d610fab button');\n",
              "      quickchartButtonEl.style.display =\n",
              "        google.colab.kernel.accessAllowed ? 'block' : 'none';\n",
              "    })();\n",
              "  </script>\n",
              "</div>\n",
              "    </div>\n",
              "  </div>\n"
            ]
          },
          "metadata": {},
          "execution_count": 172
        }
      ]
    },
    {
      "cell_type": "markdown",
      "source": [
        "Let us take a look at an image. You will get an idea of how to process your data for your neural network."
      ],
      "metadata": {
        "id": "PFZ8o68Jg2Ps"
      }
    },
    {
      "cell_type": "markdown",
      "source": [
        "The 4th column contains all the pixel values in a string for each image. Lets convert all the strings to arrays first."
      ],
      "metadata": {
        "id": "eg-e0FwohgQC"
      }
    },
    {
      "cell_type": "code",
      "source": [
        "def string_to_array(pixel_string):\n",
        "    pixel_list = pixel_string.split()\n",
        "    pixel_array = np.array([int(value) for value in pixel_list])\n",
        "    return pixel_array"
      ],
      "metadata": {
        "id": "2-8cTv4PhqaJ"
      },
      "execution_count": 173,
      "outputs": []
    },
    {
      "cell_type": "code",
      "source": [
        "df_sampled['pixels'] = df_sampled['pixels'].apply(string_to_array)"
      ],
      "metadata": {
        "id": "JhS0ELt7bVSL"
      },
      "execution_count": 174,
      "outputs": []
    },
    {
      "cell_type": "code",
      "source": [
        "df_sampled['pixels']"
      ],
      "metadata": {
        "id": "cWoMBRYxbwDb",
        "colab": {
          "base_uri": "https://localhost:8080/"
        },
        "outputId": "44c729be-4fd3-4689-eb24-58f60af3fd8f"
      },
      "execution_count": 175,
      "outputs": [
        {
          "output_type": "execute_result",
          "data": {
            "text/plain": [
              "0       [31, 32, 28, 27, 34, 38, 37, 40, 47, 51, 52, 5...\n",
              "1       [186, 65, 38, 40, 36, 51, 64, 64, 60, 55, 58, ...\n",
              "2       [20, 23, 35, 34, 45, 65, 69, 72, 79, 92, 106, ...\n",
              "3       [6, 6, 13, 19, 15, 23, 41, 76, 106, 125, 133, ...\n",
              "4       [31, 31, 29, 51, 98, 136, 162, 175, 176, 178, ...\n",
              "                              ...                        \n",
              "6995    [128, 130, 131, 131, 132, 134, 134, 140, 72, 4...\n",
              "6996    [28, 22, 19, 23, 16, 22, 19, 31, 64, 81, 88, 9...\n",
              "6997    [221, 229, 227, 200, 166, 115, 146, 198, 186, ...\n",
              "6998    [58, 61, 76, 58, 83, 71, 74, 90, 71, 112, 77, ...\n",
              "6999    [19, 21, 20, 23, 33, 54, 90, 128, 149, 169, 17...\n",
              "Name: pixels, Length: 7000, dtype: object"
            ]
          },
          "metadata": {},
          "execution_count": 175
        }
      ]
    },
    {
      "cell_type": "markdown",
      "source": [
        "Our \"pixels\" column has been converted to arrays which we can now use as input features to our model"
      ],
      "metadata": {
        "id": "BhcEWMDbrZto"
      }
    },
    {
      "cell_type": "markdown",
      "source": [
        "Lets show the first image of our dataset"
      ],
      "metadata": {
        "id": "lpBey7-Griwp"
      }
    },
    {
      "cell_type": "code",
      "source": [
        "index = 30\n",
        "first_image = df_sampled['pixels'][index]\n",
        "image = first_image.reshape((48,48))\n",
        "print(\"Age: \"+str(df_sampled[\"age\"][index])+\"\\nEthnicity: \"+str(df_sampled[\"ethnicity\"][index])+ \"\\nGender: \"+str(df_sampled[\"gender\"][index]))\n",
        "plt.imshow(image,cmap=\"gray\")"
      ],
      "metadata": {
        "id": "yXEYMfj8etyN",
        "colab": {
          "base_uri": "https://localhost:8080/",
          "height": 505
        },
        "outputId": "d2c1a10e-6179-4c2c-c2ad-cc5c2fadf978"
      },
      "execution_count": 176,
      "outputs": [
        {
          "output_type": "stream",
          "name": "stdout",
          "text": [
            "Age: 28\n",
            "Ethnicity: 3\n",
            "Gender: 0\n"
          ]
        },
        {
          "output_type": "execute_result",
          "data": {
            "text/plain": [
              "<matplotlib.image.AxesImage at 0x7a54d5794310>"
            ]
          },
          "metadata": {},
          "execution_count": 176
        },
        {
          "output_type": "display_data",
          "data": {
            "text/plain": [
              "<Figure size 640x480 with 1 Axes>"
            ],
            "image/png": "[encoded data removed]"
          },
          "metadata": {}
        }
      ]
    },
    {
      "cell_type": "markdown",
      "source": [
        "Uptill now, an initial processing has already been done using pandas in this starter code jupyter notebook. Hence you have a data frame ready for your assignment.\n",
        "\n",
        "Please use the dataframe \"df_sampled\" for your assignment.\n",
        "\n",
        "# You should consult the Assignment 1 document provided to you on LMS  for information regarding the tasks that are needed to be done for successful completion of this assignment. Grading rubricks are also mentioned in detail there.\n",
        "\n"
      ],
      "metadata": {
        "id": "x7DZZ8VZrRJR"
      }
    },
    {
      "cell_type": "markdown",
      "metadata": {
        "id": "SMxNgNi3Sb1a"
      },
      "source": [
        "#Importing Necessary Libraries"
      ]
    },
    {
      "cell_type": "code",
      "execution_count": 177,
      "metadata": {
        "id": "Va1Ks8tWBVWV"
      },
      "outputs": [],
      "source": [
        "# Write any further imports you need here\n",
        "\n",
        "import torch\n",
        "from torch import nn\n",
        "from torch.utils.data import random_split, DataLoader, TensorDataset"
      ]
    },
    {
      "cell_type": "markdown",
      "source": [
        "#Setting Seed to get Same Results"
      ],
      "metadata": {
        "id": "BbdZ4Q4lYGA2"
      }
    },
    {
      "cell_type": "code",
      "source": [
        "def set_seeds(seed):\n",
        "    torch.backends.cudnn.benchmark = False\n",
        "    torch.backends.cudnn.determinictic = True\n",
        "    torch.cuda.manual_seed_all(seed)\n",
        "    np.random.seed(seed)\n",
        "    torch.manual_seed(seed)\n",
        "    random.seed(seed)\n",
        "set_seeds(42)"
      ],
      "metadata": {
        "id": "EHyTixuKYEFI"
      },
      "execution_count": 178,
      "outputs": []
    },
    {
      "cell_type": "markdown",
      "metadata": {
        "id": "40DkoQ8grGu1"
      },
      "source": [
        "# Check if GPU is available."
      ]
    },
    {
      "cell_type": "code",
      "execution_count": 179,
      "metadata": {
        "id": "jwmL4UIAdEwP",
        "colab": {
          "base_uri": "https://localhost:8080/"
        },
        "outputId": "b02d9780-8b39-40ed-e3f8-7cd99a3e8857"
      },
      "outputs": [
        {
          "output_type": "stream",
          "name": "stdout",
          "text": [
            "<== CUDA availability : ==> True\n"
          ]
        }
      ],
      "source": [
        "use_cuda = torch.cuda.is_available()\n",
        "device = torch.device(\"cuda\" if use_cuda else \"cpu\")\n",
        "print ('<== CUDA availability : ==>', use_cuda)"
      ]
    },
    {
      "cell_type": "markdown",
      "metadata": {
        "id": "rza-mJn8UY3Q"
      },
      "source": [
        "# Defining our Neural Network"
      ]
    },
    {
      "cell_type": "code",
      "execution_count": 180,
      "metadata": {
        "id": "Op8EzVSstYlf",
        "colab": {
          "base_uri": "https://localhost:8080/"
        },
        "outputId": "3f69dc2d-612e-4397-a158-c4ca4121f033"
      },
      "outputs": [
        {
          "output_type": "stream",
          "name": "stdout",
          "text": [
            "Multi_Task_Neural_Network(\n",
            "  (features): Sequential(\n",
            "    (0): Linear(in_features=2304, out_features=1580, bias=True)\n",
            "    (1): BatchNorm1d(1580, eps=1e-05, momentum=0.1, affine=True, track_running_stats=True)\n",
            "    (2): ReLU(inplace=True)\n",
            "    (3): Dropout(p=0.5, inplace=False)\n",
            "    (4): Linear(in_features=1580, out_features=1080, bias=True)\n",
            "    (5): BatchNorm1d(1080, eps=1e-05, momentum=0.1, affine=True, track_running_stats=True)\n",
            "    (6): ReLU(inplace=True)\n",
            "    (7): Dropout(p=0.5, inplace=False)\n",
            "  )\n",
            "  (age): Sequential(\n",
            "    (0): Linear(in_features=1080, out_features=700, bias=True)\n",
            "    (1): BatchNorm1d(700, eps=1e-05, momentum=0.1, affine=True, track_running_stats=True)\n",
            "    (2): ReLU(inplace=True)\n",
            "    (3): Dropout(p=0.5, inplace=False)\n",
            "    (4): Linear(in_features=700, out_features=500, bias=True)\n",
            "    (5): BatchNorm1d(500, eps=1e-05, momentum=0.1, affine=True, track_running_stats=True)\n",
            "    (6): ReLU(inplace=True)\n",
            "    (7): Dropout(p=0.5, inplace=False)\n",
            "    (8): Linear(in_features=500, out_features=250, bias=True)\n",
            "    (9): BatchNorm1d(250, eps=1e-05, momentum=0.1, affine=True, track_running_stats=True)\n",
            "    (10): ReLU(inplace=True)\n",
            "    (11): Dropout(p=0.5, inplace=False)\n",
            "    (12): Linear(in_features=250, out_features=1, bias=True)\n",
            "  )\n",
            "  (ethnicity): Sequential(\n",
            "    (0): Linear(in_features=1080, out_features=512, bias=True)\n",
            "    (1): BatchNorm1d(512, eps=1e-05, momentum=0.1, affine=True, track_running_stats=True)\n",
            "    (2): ReLU(inplace=True)\n",
            "    (3): Dropout(p=0.5, inplace=False)\n",
            "    (4): Linear(in_features=512, out_features=256, bias=True)\n",
            "    (5): BatchNorm1d(256, eps=1e-05, momentum=0.1, affine=True, track_running_stats=True)\n",
            "    (6): ReLU(inplace=True)\n",
            "    (7): Dropout(p=0.5, inplace=False)\n",
            "    (8): Linear(in_features=256, out_features=5, bias=True)\n",
            "  )\n",
            "  (gender): Sequential(\n",
            "    (0): Linear(in_features=1080, out_features=512, bias=True)\n",
            "    (1): BatchNorm1d(512, eps=1e-05, momentum=0.1, affine=True, track_running_stats=True)\n",
            "    (2): ReLU(inplace=True)\n",
            "    (3): Dropout(p=0.5, inplace=False)\n",
            "    (4): Linear(in_features=512, out_features=256, bias=True)\n",
            "    (5): BatchNorm1d(256, eps=1e-05, momentum=0.1, affine=True, track_running_stats=True)\n",
            "    (6): ReLU(inplace=True)\n",
            "    (7): Dropout(p=0.5, inplace=False)\n",
            "    (8): Linear(in_features=256, out_features=1, bias=True)\n",
            "    (9): Sigmoid()\n",
            "  )\n",
            ")\n"
          ]
        }
      ],
      "source": [
        "class Multi_Task_Neural_Network(nn.Module):\n",
        "\n",
        "  # Initializing our Neural Network\n",
        "  def __init__(self):\n",
        "\n",
        "    super(Multi_Task_Neural_Network, self).__init__() # Accessing the 'nn' super class\n",
        "\n",
        "    # Initializing feature extraction Layers for our Neural Net:\n",
        "    self.features = nn.Sequential (\n",
        "\n",
        "        nn.Linear(48*48, 1580),\n",
        "        nn.BatchNorm1d(1580),\n",
        "        nn.ReLU(inplace=True),\n",
        "        nn.Dropout(),\n",
        "\n",
        "        nn.Linear(1580, 1080),\n",
        "        nn.BatchNorm1d(1080),\n",
        "        nn.ReLU(inplace=True),\n",
        "        nn.Dropout()\n",
        "    )\n",
        "\n",
        "    # Subnetwork for age regression\n",
        "    self.age = nn.Sequential (\n",
        "\n",
        "        nn.Linear(1080, 700),\n",
        "        nn.BatchNorm1d(700),\n",
        "        nn.ReLU(inplace=True),\n",
        "        nn.Dropout(),\n",
        "\n",
        "        nn.Linear(700, 500),\n",
        "        nn.BatchNorm1d(500),\n",
        "        nn.ReLU(inplace=True),\n",
        "        nn.Dropout(),\n",
        "\n",
        "        nn.Linear(500, 250),\n",
        "        nn.BatchNorm1d(250),\n",
        "        nn.ReLU(inplace=True),\n",
        "        nn.Dropout(),\n",
        "\n",
        "        nn.Linear(250, 1)\n",
        "    )\n",
        "\n",
        "    # Subnetwork for ethnicity multi classification\n",
        "    self.ethnicity = nn.Sequential (\n",
        "\n",
        "        nn.Linear(1080, 512),\n",
        "        nn.BatchNorm1d(512),\n",
        "        nn.ReLU(inplace=True),\n",
        "        nn.Dropout(),\n",
        "\n",
        "        nn.Linear(512, 256),\n",
        "        nn.BatchNorm1d(256),\n",
        "        nn.ReLU(inplace=True),\n",
        "        nn.Dropout(),\n",
        "\n",
        "        nn.Linear(256, 5)\n",
        "    )\n",
        "\n",
        "    # Subnetwork for gender binary classification\n",
        "    self.gender = nn.Sequential (\n",
        "        nn.Linear(1080, 512),\n",
        "        nn.BatchNorm1d(512),\n",
        "        nn.ReLU(inplace=True),\n",
        "        nn.Dropout(),\n",
        "\n",
        "        nn.Linear(512, 256),\n",
        "        nn.BatchNorm1d(256),\n",
        "        nn.ReLU(inplace=True),\n",
        "        nn.Dropout(),\n",
        "\n",
        "        nn.Linear(256, 1),\n",
        "        nn.Sigmoid()\n",
        "    )\n",
        "\n",
        "  # Function for extracting features from images\n",
        "  def feature_extractor(self, x):\n",
        "    F = self.features(x)\n",
        "    return F\n",
        "\n",
        "  # Defining Forward Propogation Function\n",
        "  def forward(self, x):\n",
        "\n",
        "    # Getting representation vector\n",
        "    r_vector = self.feature_extractor(x)\n",
        "\n",
        "    # Getting respective output heads\n",
        "    age = self.age(r_vector)\n",
        "    ethnicity = self.ethnicity(r_vector)\n",
        "    gender = self.gender(r_vector)\n",
        "\n",
        "    return age, ethnicity, gender\n",
        "\n",
        "model = Multi_Task_Neural_Network().to(device)\n",
        "print(model)"
      ]
    },
    {
      "cell_type": "markdown",
      "metadata": {
        "id": "oqsnPvXa4m8P"
      },
      "source": [
        "# DataLoader & Data Splitting"
      ]
    },
    {
      "cell_type": "code",
      "execution_count": 181,
      "metadata": {
        "id": "VsnP26gT4rIF"
      },
      "outputs": [],
      "source": [
        "# Converting datagrams to tensors\n",
        "input = torch.tensor(df_sampled[\"pixels\"])\n",
        "age = torch.tensor(df_sampled[\"age\"])\n",
        "ethnicity = torch.tensor(df_sampled[\"ethnicity\"])\n",
        "gender = torch.tensor(df_sampled[\"gender\"])\n",
        "\n",
        "# Creating a custom dataset\n",
        "dataset = TensorDataset(input, age, ethnicity, gender)\n",
        "\n",
        "# Defining Split Ratios:\n",
        "train_ratio = int(0.70 * len(df_sampled)) # 70% split for train set\n",
        "val_ratio = int(0.15 * len(df_sampled)) # 15% for validation set\n",
        "test_ratio =  int(0.15 * len(df_sampled)) # 15% split for testing set\n",
        "\n",
        "# Splitting the dataset into train, validation, and test sets:\n",
        "trainset, testset, valset = random_split(dataset, [train_ratio,test_ratio,val_ratio], generator=torch.Generator().manual_seed(42))\n",
        "\n",
        "# Defining Batch Size\n",
        "batch = 64\n",
        "\n",
        "# Creating Dataloaders:\n",
        "traindata = DataLoader(trainset, batch_size=batch)\n",
        "valdata = DataLoader(valset, batch_size=batch)\n",
        "testdata = DataLoader(testset, batch_size=batch)"
      ]
    },
    {
      "cell_type": "code",
      "source": [
        "# Loss Function for age Regression\n",
        "a_L = nn.MSELoss()\n",
        "\n",
        "# Loss Function for ethnicity classification\n",
        "e_L = nn.CrossEntropyLoss()\n",
        "\n",
        "# Loss Function for gender classification\n",
        "g_L = nn.BCELoss()\n",
        "\n",
        "# Mean Absolute Loss for age\n",
        "mae = nn.L1Loss()\n",
        "\n",
        "# Defining our Optimizer\n",
        "optimizer = torch.optim.Adam(model.parameters(), lr = 1e-3, weight_decay = 0.001)"
      ],
      "metadata": {
        "id": "OQaBN2dopo5b"
      },
      "execution_count": 182,
      "outputs": []
    },
    {
      "cell_type": "markdown",
      "metadata": {
        "id": "4ZAcJJlVePVD"
      },
      "source": [
        "# Train Function"
      ]
    },
    {
      "cell_type": "code",
      "execution_count": 183,
      "metadata": {
        "id": "hKwbN_Xuecx8"
      },
      "outputs": [],
      "source": [
        "# Defining Train function\n",
        "def train(epoch):\n",
        "\n",
        "  running_gender_loss = 0\n",
        "  running_ethnicity_loss = 0\n",
        "  MSE = 0\n",
        "\n",
        "  model.train() # Setting the model to train\n",
        "\n",
        "  for x, age, ethnicity, gender in traindata:\n",
        "\n",
        "    # Converting to float type tensors\n",
        "    gender = gender.float()\n",
        "    age = age.float()\n",
        "\n",
        "    x, age, ethnicity, gender = x.to(device), age.to(device), ethnicity.to(device), gender.to(device) # assign input samples to the available device (CPU or GPU) for computation.\n",
        "\n",
        "    # Forward Pass\n",
        "    age_pred, ethnicity_pred, gender_pred = model.forward(x.float())\n",
        "\n",
        "    # Computing loss for age\n",
        "    age_loss = a_L(age_pred, age.reshape(-1,1))\n",
        "    MSE += age_loss.item()\n",
        "\n",
        "    # Computing loss for ethnicity\n",
        "    ethnicity_loss = e_L(ethnicity_pred, ethnicity)\n",
        "    running_ethnicity_loss += ethnicity_loss.item()\n",
        "\n",
        "    # Computing loss for gender\n",
        "    gender_loss = g_L(gender_pred, gender.reshape(-1,1))\n",
        "    running_gender_loss += gender_loss.item()\n",
        "\n",
        "    # Defining a weighted total loss for this model\n",
        "    total_loss = (0.05 * age_loss) + (2 * ethnicity_loss) + (2 * gender_loss)\n",
        "\n",
        "    # Backpropogation\n",
        "    optimizer.zero_grad() # Making gradient equal to zero to avoid accumulation\n",
        "    total_loss.backward() # Calculating gradients\n",
        "    optimizer.step() # Updating weights and biases\n",
        "\n",
        "  # Calculating Losses for each task\n",
        "  avg_MSE_loss = MSE/len(traindata)\n",
        "  avg_gender_loss = running_gender_loss/len(traindata)\n",
        "  avg_ethnicity_loss = running_ethnicity_loss/len(traindata)\n",
        "\n",
        "  # Displaying Losses\n",
        "  print(f\"Epoch {epoch+1}: (Training) MSE: {avg_MSE_loss:>0.1f}  Avg Gender Loss: {avg_gender_loss:>0.3f}  Avg Ethnicity Loss: {avg_ethnicity_loss:>0.3f}\")\n",
        "\n",
        "  return avg_MSE_loss, avg_gender_loss, avg_ethnicity_loss"
      ]
    },
    {
      "cell_type": "markdown",
      "source": [
        "#Validation Function\n"
      ],
      "metadata": {
        "id": "XuxkHIiQpbkW"
      }
    },
    {
      "cell_type": "code",
      "source": [
        "# Defining Validate function\n",
        "def validate():\n",
        "\n",
        "  running_gender_loss = 0\n",
        "  running_ethnicity_loss = 0\n",
        "  MSE = 0\n",
        "  total_acc = 0\n",
        "  gender_acc = 0\n",
        "  ethnicity_acc = 0\n",
        "\n",
        "  model.eval() # Setting the model in evaluation mode\n",
        "\n",
        "  for x, age, ethnicity, gender in valdata:\n",
        "\n",
        "    x, age, ethnicity, gender = x.to(device), age.to(device), ethnicity.to(device), gender.to(device) # assign input samples to the available device (CPU or GPU) for computation.\n",
        "\n",
        "    # Converting tensors to float type\n",
        "    gender = gender.float()\n",
        "    age = age.float()\n",
        "\n",
        "    with torch.no_grad(): # Calculating no gradients in case of validation\n",
        "\n",
        "      # Forward Pass\n",
        "      age_pred, ethnicity_pred, gender_pred = model.forward(x.float())\n",
        "\n",
        "      # Computing loss for age\n",
        "      age_loss = a_L(age_pred, age.reshape(-1,1))\n",
        "      MSE += age_loss.item()\n",
        "\n",
        "      # Computing loss for ethnicity\n",
        "      ethnicity_loss = e_L(ethnicity_pred, ethnicity)\n",
        "      running_ethnicity_loss += ethnicity_loss.item()\n",
        "\n",
        "      # Computing loss for gender\n",
        "      gender_loss = g_L(gender_pred, gender.reshape(-1,1))\n",
        "      running_gender_loss += gender_loss.item()\n",
        "\n",
        "    # Predicting accuracy for gender classification:\n",
        "    gender_acc += (gender_pred.reshape(-1).round() == gender).sum()\n",
        "\n",
        "    # Predicting accuracy for ethnicity classification:\n",
        "    ethnicity_acc += (ethnicity_pred.argmax(1) == ethnicity).sum()\n",
        "\n",
        "    # Predicting combined accuracy of the model\n",
        "    total_acc += torch.logical_and(ethnicity_pred.argmax(1) == ethnicity, gender_pred.reshape(-1).round() == gender).sum()\n",
        "\n",
        "  # Calculating Losses for each task\n",
        "  avg_MSE_loss = MSE/len(valdata)\n",
        "  avg_gender_loss = running_gender_loss/len(valdata)\n",
        "  avg_ethnicity_loss = running_ethnicity_loss/len(valdata)\n",
        "\n",
        "  # Displaying Respective Accuracies and Losses\n",
        "  print(f\"\\t (Validation) MSE: {avg_MSE_loss:>0.1f} Avg Gender Loss: {avg_gender_loss:>0.3f} Avg Ethnicity Loss: {avg_ethnicity_loss:>0.3f}\")\n",
        "\n",
        "  return avg_MSE_loss, avg_gender_loss, avg_ethnicity_loss"
      ],
      "metadata": {
        "id": "oj0-VM8fpfyj"
      },
      "execution_count": 184,
      "outputs": []
    },
    {
      "cell_type": "markdown",
      "source": [
        "# Test Function"
      ],
      "metadata": {
        "id": "88HXVfc9qfOn"
      }
    },
    {
      "cell_type": "code",
      "source": [
        "# Defining Test function\n",
        "\n",
        "def test():\n",
        "\n",
        "  total_acc = 0\n",
        "  gender_acc = 0\n",
        "  ethnicity_acc = 0\n",
        "  MSE = 0\n",
        "  MAE = 0\n",
        "  running_gender_loss = 0\n",
        "  running_ethnicity_loss = 0\n",
        "\n",
        "  model.eval() # Setting the model in evaluation mode\n",
        "\n",
        "  for x, age, ethnicity, gender in testdata:\n",
        "\n",
        "    x, age, ethnicity, gender = x.to(device), age.to(device), ethnicity.to(device), gender.to(device) # assign input samples to the available device (CPU or GPU) for computation.\n",
        "\n",
        "    # Converting to float type tensors\n",
        "    gender = gender.float()\n",
        "    age = age.float()\n",
        "\n",
        "    with torch.no_grad():\n",
        "\n",
        "      # Forward Pass\n",
        "      age_pred, ethnicity_pred, gender_pred = model.forward(x.float())\n",
        "\n",
        "      # Computing loss for age\n",
        "      age_loss = a_L(age_pred, age.reshape(-1,1))\n",
        "      MSE += age_loss.item()\n",
        "\n",
        "      # Computing Mean Absolute Error\n",
        "      mae_loss = mae(age_pred, age.reshape(-1,1))\n",
        "      MAE += mae_loss\n",
        "\n",
        "      # Computing loss for ethnicity\n",
        "      ethnicity_loss = e_L(ethnicity_pred, ethnicity)\n",
        "      running_ethnicity_loss += ethnicity_loss.item()\n",
        "\n",
        "      # Computing loss for gender\n",
        "      gender_loss = g_L(gender_pred, gender.reshape(-1,1))\n",
        "      running_gender_loss += gender_loss.item()\n",
        "\n",
        "    # Predicting accuracy for gender classification:\n",
        "    gender_acc += (gender_pred.reshape(-1).round() == gender).sum()\n",
        "\n",
        "    # Predicting accuracy for ethnicity classification:\n",
        "    ethnicity_acc += (ethnicity_pred.argmax(1) == ethnicity).sum()\n",
        "\n",
        "    # Predicting combined classification accuracy of the model\n",
        "    total_acc += torch.logical_and(ethnicity_pred.argmax(1) == ethnicity, gender_pred.reshape(-1).round() == gender).sum()\n",
        "\n",
        "  # Calculating Losses for each task\n",
        "  avg_MSE_loss = MSE/len(testdata)\n",
        "  avg_gender_loss = running_gender_loss/len(testdata)\n",
        "  avg_ethnicity_loss = running_ethnicity_loss/len(testdata)\n",
        "\n",
        "  # Displaying Respective Accuracies and Losses\n",
        "  print(f\"MSE: {avg_MSE_loss:>0.1f}\")\n",
        "  print(f\"RMSE: {np.sqrt(avg_MSE_loss):>0.1f}\")\n",
        "  print(f\"MAE {MAE/len(testdata):>0.1f}\\n\")\n",
        "\n",
        "  print(f\"Gender Accuracy: {(gender_acc/test_ratio * 100):>0.1f}%\")\n",
        "  print(f\"Avg Gender Loss: {avg_gender_loss:>0.3f} \\n\")\n",
        "\n",
        "  print(f\"Ethnicity Accuracy: {(ethnicity_acc/test_ratio * 100):>0.1f}%\")\n",
        "  print(f\"Avg Ethnicity Loss: {avg_ethnicity_loss:>0.3f} \\n\")\n",
        "\n",
        "  print(f\"Combined Accuracy: {(total_acc/test_ratio * 100):>0.1f}% \\n\")\n"
      ],
      "metadata": {
        "id": "w6B1M58mqhZ9"
      },
      "execution_count": 185,
      "outputs": []
    },
    {
      "cell_type": "markdown",
      "source": [
        "# Training & Testing our Model"
      ],
      "metadata": {
        "id": "tRkVb7xH1unr"
      }
    },
    {
      "cell_type": "code",
      "source": [
        "# Defining number of Epochs\n",
        "Epochs = 38\n",
        "\n",
        "# Train and Validation losses\n",
        "train_mse, val_mse = [], []\n",
        "train_gender_loss, val_gender_loss = [], []\n",
        "train_ethnicity_loss, val_ethnicity_loss = [], []\n",
        "\n",
        "for i in range(Epochs):\n",
        "\n",
        "  # First, we train the model\n",
        "  mse_loss, gender_loss, ethnicity_loss = train(i)\n",
        "\n",
        "  train_mse.append(mse_loss)\n",
        "  train_gender_loss.append(gender_loss)\n",
        "  train_ethnicity_loss.append(ethnicity_loss)\n",
        "\n",
        "  # Next, we validate it on new data\n",
        "  mse_loss, gender_loss, ethnicity_loss = validate()\n",
        "\n",
        "  val_mse.append(mse_loss)\n",
        "  val_gender_loss.append(gender_loss)\n",
        "  val_ethnicity_loss.append(ethnicity_loss)\n",
        "\n",
        "# Lastly, we test the model on unseen data:\n",
        "\n",
        "print(\"\\nx--------Testing--------x\\n\")\n",
        "\n",
        "test()\n",
        "\n",
        "print(\"x-----------------------x\")"
      ],
      "metadata": {
        "id": "W1-T6t3H10FI",
        "colab": {
          "base_uri": "https://localhost:8080/"
        },
        "outputId": "376a9ecc-0126-4586-ccc3-07fb2ea15ee4"
      },
      "execution_count": 186,
      "outputs": [
        {
          "output_type": "stream",
          "name": "stdout",
          "text": [
            "Epoch 1: (Training) MSE: 1217.5  Avg Gender Loss: 0.642  Avg Ethnicity Loss: 1.396\n",
            "\t (Validation) MSE: 890.2 Avg Gender Loss: 0.620 Avg Ethnicity Loss: 1.254\n",
            "Epoch 2: (Training) MSE: 650.0  Avg Gender Loss: 0.576  Avg Ethnicity Loss: 1.289\n",
            "\t (Validation) MSE: 617.6 Avg Gender Loss: 0.569 Avg Ethnicity Loss: 1.297\n",
            "Epoch 3: (Training) MSE: 328.6  Avg Gender Loss: 0.545  Avg Ethnicity Loss: 1.258\n",
            "\t (Validation) MSE: 225.1 Avg Gender Loss: 0.506 Avg Ethnicity Loss: 1.145\n",
            "Epoch 4: (Training) MSE: 228.3  Avg Gender Loss: 0.515  Avg Ethnicity Loss: 1.215\n",
            "\t (Validation) MSE: 221.6 Avg Gender Loss: 0.450 Avg Ethnicity Loss: 1.122\n",
            "Epoch 5: (Training) MSE: 196.1  Avg Gender Loss: 0.482  Avg Ethnicity Loss: 1.192\n",
            "\t (Validation) MSE: 231.6 Avg Gender Loss: 0.440 Avg Ethnicity Loss: 1.194\n",
            "Epoch 6: (Training) MSE: 182.2  Avg Gender Loss: 0.447  Avg Ethnicity Loss: 1.150\n",
            "\t (Validation) MSE: 212.9 Avg Gender Loss: 0.426 Avg Ethnicity Loss: 1.076\n",
            "Epoch 7: (Training) MSE: 175.9  Avg Gender Loss: 0.427  Avg Ethnicity Loss: 1.126\n",
            "\t (Validation) MSE: 213.9 Avg Gender Loss: 0.405 Avg Ethnicity Loss: 1.072\n",
            "Epoch 8: (Training) MSE: 160.8  Avg Gender Loss: 0.403  Avg Ethnicity Loss: 1.110\n",
            "\t (Validation) MSE: 332.6 Avg Gender Loss: 0.406 Avg Ethnicity Loss: 1.087\n",
            "Epoch 9: (Training) MSE: 160.6  Avg Gender Loss: 0.404  Avg Ethnicity Loss: 1.077\n",
            "\t (Validation) MSE: 223.3 Avg Gender Loss: 0.389 Avg Ethnicity Loss: 1.041\n",
            "Epoch 10: (Training) MSE: 147.8  Avg Gender Loss: 0.385  Avg Ethnicity Loss: 1.054\n",
            "\t (Validation) MSE: 246.2 Avg Gender Loss: 0.395 Avg Ethnicity Loss: 1.014\n",
            "Epoch 11: (Training) MSE: 153.4  Avg Gender Loss: 0.394  Avg Ethnicity Loss: 1.061\n",
            "\t (Validation) MSE: 230.1 Avg Gender Loss: 0.378 Avg Ethnicity Loss: 1.107\n",
            "Epoch 12: (Training) MSE: 142.4  Avg Gender Loss: 0.375  Avg Ethnicity Loss: 1.027\n",
            "\t (Validation) MSE: 219.1 Avg Gender Loss: 0.390 Avg Ethnicity Loss: 1.018\n",
            "Epoch 13: (Training) MSE: 145.7  Avg Gender Loss: 0.377  Avg Ethnicity Loss: 1.001\n",
            "\t (Validation) MSE: 242.2 Avg Gender Loss: 0.400 Avg Ethnicity Loss: 1.049\n",
            "Epoch 14: (Training) MSE: 134.5  Avg Gender Loss: 0.364  Avg Ethnicity Loss: 1.000\n",
            "\t (Validation) MSE: 194.7 Avg Gender Loss: 0.389 Avg Ethnicity Loss: 0.965\n",
            "Epoch 15: (Training) MSE: 134.9  Avg Gender Loss: 0.362  Avg Ethnicity Loss: 0.973\n",
            "\t (Validation) MSE: 213.5 Avg Gender Loss: 0.385 Avg Ethnicity Loss: 0.956\n",
            "Epoch 16: (Training) MSE: 128.1  Avg Gender Loss: 0.354  Avg Ethnicity Loss: 0.961\n",
            "\t (Validation) MSE: 219.8 Avg Gender Loss: 0.350 Avg Ethnicity Loss: 1.007\n",
            "Epoch 17: (Training) MSE: 128.3  Avg Gender Loss: 0.360  Avg Ethnicity Loss: 0.939\n",
            "\t (Validation) MSE: 287.3 Avg Gender Loss: 0.366 Avg Ethnicity Loss: 0.998\n",
            "Epoch 18: (Training) MSE: 121.6  Avg Gender Loss: 0.347  Avg Ethnicity Loss: 0.923\n",
            "\t (Validation) MSE: 259.8 Avg Gender Loss: 0.374 Avg Ethnicity Loss: 0.983\n",
            "Epoch 19: (Training) MSE: 120.3  Avg Gender Loss: 0.342  Avg Ethnicity Loss: 0.925\n",
            "\t (Validation) MSE: 197.5 Avg Gender Loss: 0.403 Avg Ethnicity Loss: 1.028\n",
            "Epoch 20: (Training) MSE: 123.6  Avg Gender Loss: 0.345  Avg Ethnicity Loss: 0.916\n",
            "\t (Validation) MSE: 168.4 Avg Gender Loss: 0.364 Avg Ethnicity Loss: 0.916\n",
            "Epoch 21: (Training) MSE: 119.2  Avg Gender Loss: 0.342  Avg Ethnicity Loss: 0.917\n",
            "\t (Validation) MSE: 202.7 Avg Gender Loss: 0.374 Avg Ethnicity Loss: 0.918\n",
            "Epoch 22: (Training) MSE: 116.0  Avg Gender Loss: 0.341  Avg Ethnicity Loss: 0.894\n",
            "\t (Validation) MSE: 191.7 Avg Gender Loss: 0.358 Avg Ethnicity Loss: 1.008\n",
            "Epoch 23: (Training) MSE: 122.6  Avg Gender Loss: 0.335  Avg Ethnicity Loss: 0.897\n",
            "\t (Validation) MSE: 229.0 Avg Gender Loss: 0.387 Avg Ethnicity Loss: 0.960\n",
            "Epoch 24: (Training) MSE: 112.5  Avg Gender Loss: 0.333  Avg Ethnicity Loss: 0.882\n",
            "\t (Validation) MSE: 269.9 Avg Gender Loss: 0.392 Avg Ethnicity Loss: 0.957\n",
            "Epoch 25: (Training) MSE: 114.0  Avg Gender Loss: 0.335  Avg Ethnicity Loss: 0.882\n",
            "\t (Validation) MSE: 243.8 Avg Gender Loss: 0.384 Avg Ethnicity Loss: 0.920\n",
            "Epoch 26: (Training) MSE: 113.8  Avg Gender Loss: 0.328  Avg Ethnicity Loss: 0.873\n",
            "\t (Validation) MSE: 182.0 Avg Gender Loss: 0.345 Avg Ethnicity Loss: 0.925\n",
            "Epoch 27: (Training) MSE: 110.5  Avg Gender Loss: 0.328  Avg Ethnicity Loss: 0.870\n",
            "\t (Validation) MSE: 173.3 Avg Gender Loss: 0.336 Avg Ethnicity Loss: 0.876\n",
            "Epoch 28: (Training) MSE: 105.5  Avg Gender Loss: 0.325  Avg Ethnicity Loss: 0.872\n",
            "\t (Validation) MSE: 228.8 Avg Gender Loss: 0.343 Avg Ethnicity Loss: 0.952\n",
            "Epoch 29: (Training) MSE: 110.2  Avg Gender Loss: 0.325  Avg Ethnicity Loss: 0.850\n",
            "\t (Validation) MSE: 238.4 Avg Gender Loss: 0.356 Avg Ethnicity Loss: 0.927\n",
            "Epoch 30: (Training) MSE: 103.1  Avg Gender Loss: 0.325  Avg Ethnicity Loss: 0.838\n",
            "\t (Validation) MSE: 186.5 Avg Gender Loss: 0.351 Avg Ethnicity Loss: 0.898\n",
            "Epoch 31: (Training) MSE: 106.5  Avg Gender Loss: 0.317  Avg Ethnicity Loss: 0.837\n",
            "\t (Validation) MSE: 247.3 Avg Gender Loss: 0.349 Avg Ethnicity Loss: 1.031\n",
            "Epoch 32: (Training) MSE: 108.9  Avg Gender Loss: 0.316  Avg Ethnicity Loss: 0.843\n",
            "\t (Validation) MSE: 198.4 Avg Gender Loss: 0.359 Avg Ethnicity Loss: 0.890\n",
            "Epoch 33: (Training) MSE: 104.6  Avg Gender Loss: 0.318  Avg Ethnicity Loss: 0.841\n",
            "\t (Validation) MSE: 187.7 Avg Gender Loss: 0.351 Avg Ethnicity Loss: 0.959\n",
            "Epoch 34: (Training) MSE: 105.3  Avg Gender Loss: 0.310  Avg Ethnicity Loss: 0.823\n",
            "\t (Validation) MSE: 197.4 Avg Gender Loss: 0.355 Avg Ethnicity Loss: 0.911\n",
            "Epoch 35: (Training) MSE: 99.0  Avg Gender Loss: 0.310  Avg Ethnicity Loss: 0.815\n",
            "\t (Validation) MSE: 240.6 Avg Gender Loss: 0.363 Avg Ethnicity Loss: 0.880\n",
            "Epoch 36: (Training) MSE: 97.6  Avg Gender Loss: 0.308  Avg Ethnicity Loss: 0.808\n",
            "\t (Validation) MSE: 201.7 Avg Gender Loss: 0.350 Avg Ethnicity Loss: 0.920\n",
            "Epoch 37: (Training) MSE: 96.8  Avg Gender Loss: 0.311  Avg Ethnicity Loss: 0.821\n",
            "\t (Validation) MSE: 201.0 Avg Gender Loss: 0.339 Avg Ethnicity Loss: 0.882\n",
            "Epoch 38: (Training) MSE: 102.3  Avg Gender Loss: 0.306  Avg Ethnicity Loss: 0.817\n",
            "\t (Validation) MSE: 168.3 Avg Gender Loss: 0.401 Avg Ethnicity Loss: 0.859\n",
            "\n",
            "x--------Testing--------x\n",
            "\n",
            "MSE: 166.3\n",
            "RMSE: 12.9\n",
            "MAE 9.1\n",
            "\n",
            "Gender Accuracy: 83.4%\n",
            "Avg Gender Loss: 0.363 \n",
            "\n",
            "Ethnicity Accuracy: 72.4%\n",
            "Avg Ethnicity Loss: 0.804 \n",
            "\n",
            "Combined Accuracy: 60.7% \n",
            "\n",
            "x-----------------------x\n"
          ]
        }
      ]
    },
    {
      "cell_type": "markdown",
      "source": [
        "# Plotting Graphs"
      ],
      "metadata": {
        "id": "IQBfd7_bF8Jy"
      }
    },
    {
      "cell_type": "code",
      "source": [
        "# Training MSE Vs Validaiton MSE\n",
        "plt.figure(figsize=(10,5))\n",
        "plt.title(\"Training and Validation MSE\")\n",
        "plt.plot(train_mse, label=\"Training MSE\")\n",
        "plt.plot(val_mse, label=\"Validation MSE\")\n",
        "plt.xlabel(\"Epochs\")\n",
        "plt.ylabel(\"Loss\")\n",
        "plt.legend()\n",
        "\n",
        "# Training Gender Loss Vs Validation Gender Loss\n",
        "plt.figure(figsize=(10,5))\n",
        "plt.title(\"Training and Validation Gender Loss\")\n",
        "plt.plot(train_gender_loss, label=\"training\")\n",
        "plt.plot(val_gender_loss, label=\"validation\")\n",
        "plt.xlabel(\"Epochs\")\n",
        "plt.ylabel(\"Loss\")\n",
        "plt.legend()\n",
        "\n",
        "# Training Ethnicity Loss Vs Validation Ethnicity Loss\n",
        "plt.figure(figsize=(10,5))\n",
        "plt.title(\"Training and Validation Ethnicity Loss\")\n",
        "plt.plot(train_ethnicity_loss, label=\"training\")\n",
        "plt.plot(val_ethnicity_loss, label=\"validation\")\n",
        "plt.xlabel(\"Epochs\")\n",
        "plt.ylabel(\"Loss\")\n",
        "plt.legend()\n",
        "plt.show()"
      ],
      "metadata": {
        "colab": {
          "base_uri": "https://localhost:8080/",
          "height": 1000
        },
        "id": "Kf8tKuO2F62n",
        "outputId": "22793d55-b9ac-44bc-9c45-0a5bb43dcaa0"
      },
      "execution_count": 187,
      "outputs": [
        {
          "output_type": "display_data",
          "data": {
            "text/plain": [
              "<Figure size 1000x500 with 1 Axes>"
            ],
            "image/png": "[encoded data removed]"
          },
          "metadata": {}
        },
        {
          "output_type": "display_data",
          "data": {
            "text/plain": [
              "<Figure size 1000x500 with 1 Axes>"
            ],
            "image/png": "[encoded data removed]"
          },
          "metadata": {}
        },
        {
          "output_type": "display_data",
          "data": {
            "text/plain": [
              "<Figure size 1000x500 with 1 Axes>"
            ],
            "image/png": "[encoded data removed]"
          },
          "metadata": {}
        }
      ]
    },
    {
      "cell_type": "markdown",
      "source": [
        "# Saving state of the Model"
      ],
      "metadata": {
        "id": "kkX3qBvFLEuc"
      }
    },
    {
      "cell_type": "code",
      "source": [
        "torch.save(model.state_dict(), \"model.pth\")\n",
        "print(\"Saved PyTorch Model State to model.pth\")"
      ],
      "metadata": {
        "id": "Lu8k96R9LHZ_",
        "colab": {
          "base_uri": "https://localhost:8080/"
        },
        "outputId": "d9d86141-125f-42d4-9bf6-b61c6bc7c383"
      },
      "execution_count": 188,
      "outputs": [
        {
          "output_type": "stream",
          "name": "stdout",
          "text": [
            "Saved PyTorch Model State to model.pth\n"
          ]
        }
      ]
    },
    {
      "cell_type": "markdown",
      "source": [
        "# Inferencing our Model"
      ],
      "metadata": {
        "id": "g-h482_HJzOg"
      }
    },
    {
      "cell_type": "code",
      "source": [
        "ethnicity = [\n",
        "    \"White\",\n",
        "    \"Black\",\n",
        "    \"Asian\",\n",
        "    \"Indian\",\n",
        "    \"Other\",\n",
        "]\n",
        "\n",
        "gender = [\n",
        "    \"Male\",\n",
        "    \"Female\",\n",
        "]\n",
        "\n",
        "model.to(\"cpu\")\n",
        "\n",
        "# The sample you want to test\n",
        "Sample = 521 # # Keep sample between 0 and 1050\n",
        "\n",
        "# Getting the required image\n",
        "img = testset[Sample][0]\n",
        "model.eval()\n",
        "\n",
        "# Getting Output\n",
        "with torch.no_grad():\n",
        "  age_pred, ethnicity_pred, gender_pred = model.forward(img.view(1,2304).float())\n",
        "\n",
        "# Getting predicted and actual outputs\n",
        "pred_a, actual_a = int(age_pred), int(testset[Sample][1])\n",
        "pred_g, actual_g = gender[int(gender_pred.round())], gender[testset[Sample][3]]\n",
        "pred_e, actual_e = ethnicity[ethnicity_pred.argmax()], ethnicity[testset[Sample][2]]\n",
        "\n",
        "# Displaying Result\n",
        "plt.figure(figsize=(5,5))\n",
        "\n",
        "plt.title(\"Ethnicity: \" + pred_e + \"     Actual: \" + actual_e\n",
        "          + \"\\nGender: \" + str(pred_g) + \"      Actual: \" + str(actual_g)\n",
        "          + \"\\nAge: \" + str(pred_a) + \"           Actual: \" + str(actual_a)\n",
        "          )\n",
        "\n",
        "plt.axis(\"off\")\n",
        "img = img.reshape((48,48))\n",
        "plt.imshow(img, cmap=\"gray\")"
      ],
      "metadata": {
        "id": "jZmL7lYYJyUc",
        "colab": {
          "base_uri": "https://localhost:8080/",
          "height": 503
        },
        "outputId": "dad88dad-85df-4138-d11f-ddba2f2caee2"
      },
      "execution_count": 207,
      "outputs": [
        {
          "output_type": "execute_result",
          "data": {
            "text/plain": [
              "<matplotlib.image.AxesImage at 0x7a54d4d05540>"
            ]
          },
          "metadata": {},
          "execution_count": 207
        },
        {
          "output_type": "display_data",
          "data": {
            "text/plain": [
              "<Figure size 500x500 with 1 Axes>"
            ],
            "image/png": "[encoded data removed]"
          },
          "metadata": {}
        }
      ]
    }
  ]
}